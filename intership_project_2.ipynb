{
  "nbformat": 4,
  "nbformat_minor": 0,
  "metadata": {
    "colab": {
      "provenance": []
    },
    "kernelspec": {
      "name": "python3",
      "display_name": "Python 3"
    },
    "language_info": {
      "name": "python"
    }
  },
  "cells": [
    {
      "cell_type": "code",
      "execution_count": 14,
      "metadata": {
        "id": "fAPVGG9exOSr"
      },
      "outputs": [],
      "source": [
        "# Task 9: Prime Number Check\n",
        "def is_prime(n):\n",
        "    if n < 2:\n",
        "        return False\n",
        "    for i in range(2, int(n**0.5) + 1):\n",
        "        if n % i == 0:\n",
        "            return False\n",
        "    return True\n",
        "\n",
        "# Task 10: Sum of Digits\n",
        "def sum_of_digits(n):\n",
        "    return sum(int(digit) for digit in str(n))\n",
        "\n",
        "\n",
        "# Task 11: LCM and GCD\n",
        "def gcd(a, b):\n",
        "    while b:\n",
        "        a, b = b, a % b\n",
        "    return a\n",
        "\n",
        "def lcm(a, b):\n",
        "    return abs(a * b) // gcd(a, b)\n",
        "\n",
        "\n",
        "\n",
        "# Task 12: List Reversal\n",
        "def reverse_list(lst):\n",
        "    return lst[::-1]\n",
        "\n",
        "\n",
        "\n",
        "# Task 13: Sort a List\n",
        "def bubble_sort(lst):\n",
        "    n = len(lst)\n",
        "    for i in range(n):\n",
        "        for j in range(0, n-i-1):\n",
        "            if lst[j] > lst[j+1]:\n",
        "                lst[j], lst[j+1] = lst[j+1], lst[j]\n",
        "    return lst\n",
        "\n",
        "\n",
        "\n",
        "# Task 14: Remove Duplicates\n",
        "def remove_duplicates(lst):\n",
        "    return list(set(lst))\n",
        "\n",
        "\n",
        "\n",
        "# Task 15: String Length Without len()\n",
        "def string_length(s):\n",
        "    count = 0\n",
        "    for _ in s:\n",
        "        count += 1\n",
        "    return count\n",
        "\n",
        "\n",
        "\n",
        "# Task 16: Count Vowels and Consonants\n",
        "def count_vowels_consonants(s):\n",
        "    vowels = \"aeiouAEIOU\"\n",
        "    v_count = sum(1 for char in s if char in vowels)\n",
        "    c_count = sum(1 for char in s if char.isalpha() and char not in vowels)\n",
        "    return v_count, c_count\n",
        "\n",
        "\n",
        "\n",
        "# Task 17: Maze Generator and Solver (Basic Text-Based)\n",
        "import random\n",
        "\n",
        "def generate_maze(size):\n",
        "    maze = [[random.choice([\"0\", \"1\"]) for _ in range(size)] for _ in range(size)]\n",
        "    maze[0][0] = \"S\"  # Start point\n",
        "    maze[size-1][size-1] = \"E\"  # End point\n",
        "    return maze\n",
        "\n",
        "def display_maze(maze):\n",
        "    for row in maze:\n",
        "        print(\" \".join(row))\n",
        "\n",
        "\n"
      ]
    },
    {
      "cell_type": "code",
      "source": [
        "num = int(input(\"Enter a number to check if it's prime: \"))\n",
        "print(\"Is prime?\", is_prime(num))"
      ],
      "metadata": {
        "colab": {
          "base_uri": "https://localhost:8080/"
        },
        "id": "Mo-h22y-yiyY",
        "outputId": "335e00e4-82ce-4852-8e27-a4b442fe8f83"
      },
      "execution_count": 15,
      "outputs": [
        {
          "output_type": "stream",
          "name": "stdout",
          "text": [
            "Enter a number to check if it's prime: 29\n",
            "Is prime? True\n"
          ]
        }
      ]
    },
    {
      "cell_type": "code",
      "source": [
        "num = int(input(\"Enter a number to find sum of digits: \"))\n",
        "print(\"Sum of digits:\", sum_of_digits(num))"
      ],
      "metadata": {
        "colab": {
          "base_uri": "https://localhost:8080/"
        },
        "id": "sfap_k6Uykof",
        "outputId": "7b8776d8-25e4-4d4d-da0a-3c6d225710e2"
      },
      "execution_count": 16,
      "outputs": [
        {
          "output_type": "stream",
          "name": "stdout",
          "text": [
            "Enter a number to find sum of digits: 333\n",
            "Sum of digits: 9\n"
          ]
        }
      ]
    },
    {
      "cell_type": "code",
      "source": [
        "a = int(input(\"Enter first number: \"))\n",
        "b = int(input(\"Enter second number: \"))\n",
        "print(\"GCD and LCM:\", gcd(a, b), lcm(a, b))"
      ],
      "metadata": {
        "colab": {
          "base_uri": "https://localhost:8080/"
        },
        "id": "jdD_Sk--ypI0",
        "outputId": "3e667689-4132-4ede-905b-8f94a557b3b9"
      },
      "execution_count": 17,
      "outputs": [
        {
          "output_type": "stream",
          "name": "stdout",
          "text": [
            "Enter first number: 44\n",
            "Enter second number: 55\n",
            "GCD and LCM: 11 220\n"
          ]
        }
      ]
    },
    {
      "cell_type": "code",
      "source": [
        "lst = list(map(int, input(\"Enter list elements separated by spaces: \").split()))\n",
        "print(\"Reversed list:\", reverse_list(lst))"
      ],
      "metadata": {
        "colab": {
          "base_uri": "https://localhost:8080/"
        },
        "id": "X2jhfdPn0fnS",
        "outputId": "287d75e4-574f-4d34-cdb0-872c0ded7776"
      },
      "execution_count": 26,
      "outputs": [
        {
          "output_type": "stream",
          "name": "stdout",
          "text": [
            "Enter list elements separated by spaces: 2 3 4 5\n",
            "Reversed list: [5, 4, 3, 2]\n"
          ]
        }
      ]
    },
    {
      "cell_type": "code",
      "source": [
        "lst = list(map(int, input(\"Enter numbers to sort separated by spaces: \").split()))\n",
        "print(\"Sorted list:\", bubble_sort(lst))"
      ],
      "metadata": {
        "colab": {
          "base_uri": "https://localhost:8080/"
        },
        "id": "1warVCRvy95I",
        "outputId": "4b31a8c7-fce2-4174-cb85-20ca2b606bfb"
      },
      "execution_count": 25,
      "outputs": [
        {
          "output_type": "stream",
          "name": "stdout",
          "text": [
            "Enter numbers to sort separated by spaces: 2 3 1 4 6 4 \n",
            "Sorted list: [1, 2, 3, 4, 4, 6]\n"
          ]
        }
      ]
    },
    {
      "cell_type": "code",
      "source": [
        "lst = list(map(int, input(\"Enter list elements to remove duplicates: \").split()))\n",
        "print(\"Unique elements:\", remove_duplicates(lst))"
      ],
      "metadata": {
        "colab": {
          "base_uri": "https://localhost:8080/"
        },
        "id": "70QdWcSxystb",
        "outputId": "2125996b-bee9-4c72-dfb0-1ab06befbff1"
      },
      "execution_count": 20,
      "outputs": [
        {
          "output_type": "stream",
          "name": "stdout",
          "text": [
            "Enter list elements to remove duplicates: 1 2 2 3\n",
            "Unique elements: [1, 2, 3]\n"
          ]
        }
      ]
    },
    {
      "cell_type": "code",
      "source": [
        "s = input(\"Enter a string: \")\n",
        "print(\"Length of string:\", string_length(s))"
      ],
      "metadata": {
        "colab": {
          "base_uri": "https://localhost:8080/"
        },
        "id": "e7MDopmmyxKF",
        "outputId": "c0ccd814-8155-40e0-f1f5-d122b764edff"
      },
      "execution_count": 21,
      "outputs": [
        {
          "output_type": "stream",
          "name": "stdout",
          "text": [
            "Enter a string: hi\n",
            "Length of string: 2\n"
          ]
        }
      ]
    },
    {
      "cell_type": "code",
      "source": [
        "s = input(\"Enter a string to count vowels and consonants: \")\n",
        "print(\"Vowel and Consonant count:\", count_vowels_consonants(s))"
      ],
      "metadata": {
        "colab": {
          "base_uri": "https://localhost:8080/"
        },
        "id": "DVHo-OWJy0M2",
        "outputId": "c82d3220-088c-4946-d879-efa91f75a1af"
      },
      "execution_count": 23,
      "outputs": [
        {
          "output_type": "stream",
          "name": "stdout",
          "text": [
            "Enter a string to count vowels and consonants: aeiou\n",
            "Vowel and Consonant count: (5, 0)\n"
          ]
        }
      ]
    },
    {
      "cell_type": "code",
      "source": [
        "size = int(input(\"Enter the maze size: \"))\n",
        "maze = generate_maze(size)\n",
        "print(\"Generated Maze:\")\n",
        "display_maze(maze)"
      ],
      "metadata": {
        "colab": {
          "base_uri": "https://localhost:8080/"
        },
        "id": "N73LO6Qpy7Ti",
        "outputId": "8d82d007-8485-47b5-d75a-d8068fd0dbff"
      },
      "execution_count": 24,
      "outputs": [
        {
          "output_type": "stream",
          "name": "stdout",
          "text": [
            "Enter the maze size: 5\n",
            "Generated Maze:\n",
            "S 1 1 0 1\n",
            "0 0 0 0 0\n",
            "1 1 1 0 1\n",
            "1 0 1 1 1\n",
            "0 0 1 1 E\n"
          ]
        }
      ]
    }
  ]
}