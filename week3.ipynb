{
  "nbformat": 4,
  "nbformat_minor": 0,
  "metadata": {
    "colab": {
      "provenance": []
    },
    "kernelspec": {
      "name": "python3",
      "display_name": "Python 3"
    },
    "language_info": {
      "name": "python"
    }
  },
  "cells": [
    {
      "cell_type": "code",
      "execution_count": 9,
      "metadata": {
        "colab": {
          "base_uri": "https://localhost:8080/"
        },
        "id": "10hOH0MNzpXc",
        "outputId": "74784360-bc0b-4ce8-d724-8e41e382ead4"
      },
      "outputs": [
        {
          "output_type": "stream",
          "name": "stdout",
          "text": [
            "Enter a number for multiplication table: 10\n",
            "10 x 1 = 10\n",
            "10 x 2 = 20\n",
            "10 x 3 = 30\n",
            "10 x 4 = 40\n",
            "10 x 5 = 50\n",
            "10 x 6 = 60\n",
            "10 x 7 = 70\n",
            "10 x 8 = 80\n",
            "10 x 9 = 90\n",
            "10 x 10 = 100\n"
          ]
        }
      ],
      "source": [
        "# Task 17: Table of a Number\n",
        "n = int(input(\"Enter a number for multiplication table: \"))\n",
        "def multiplication_table(n):\n",
        "    for i in range(1, 11):\n",
        "        print(f\"{n} x {i} = {n * i}\")\n",
        "multiplication_table(n)\n",
        "\n",
        "\n"
      ]
    },
    {
      "cell_type": "code",
      "source": [
        "# Task 18: Swap Two Numbers Without Third Variable\n",
        "a, b = map(int, input(\"Enter two numbers to swap: \").split())\n",
        "def swap_numbers(a, b):\n",
        "    a, b = b, a\n",
        "    return a, b\n",
        "a, b = swap_numbers(a, b)\n",
        "print(f\"Swapped numbers: {a}, {b}\")\n",
        "\n"
      ],
      "metadata": {
        "colab": {
          "base_uri": "https://localhost:8080/"
        },
        "id": "7pbOSzL11N3z",
        "outputId": "bb22dec8-7771-4cdf-c1d8-e04511ec6d8d"
      },
      "execution_count": 10,
      "outputs": [
        {
          "output_type": "stream",
          "name": "stdout",
          "text": [
            "Enter two numbers to swap: 2 3\n",
            "Swapped numbers: 3, 2\n"
          ]
        }
      ]
    },
    {
      "cell_type": "code",
      "source": [
        "# Task 19: Check Substring\n",
        "s1 = input(\"Enter main string: \")\n",
        "s2 = input(\"Enter substring to check: \")\n",
        "def is_substring(s1, s2):\n",
        "    return s2 in s1\n",
        "print(f\"Is substring present? {is_substring(s1, s2)}\")\n"
      ],
      "metadata": {
        "colab": {
          "base_uri": "https://localhost:8080/"
        },
        "id": "xGcQmtAU1P5u",
        "outputId": "6861ec79-112b-46b7-ca28-da13182b9697"
      },
      "execution_count": 11,
      "outputs": [
        {
          "output_type": "stream",
          "name": "stdout",
          "text": [
            "Enter main string: karan\n",
            "Enter substring to check: karan\n",
            "Is substring present? True\n"
          ]
        }
      ]
    },
    {
      "cell_type": "code",
      "source": [
        "\n",
        "# Task 20: Decimal to Binary\n",
        "n = int(input(\"Enter a decimal number: \"))\n",
        "def decimal_to_binary(n):\n",
        "    return bin(n)[2:]\n",
        "print(f\"Binary representation: {decimal_to_binary(n)}\")\n",
        "\n"
      ],
      "metadata": {
        "colab": {
          "base_uri": "https://localhost:8080/"
        },
        "id": "e45-gWw51TTa",
        "outputId": "7381dbb6-1d8f-48c0-b5a2-0d5346c44589"
      },
      "execution_count": 12,
      "outputs": [
        {
          "output_type": "stream",
          "name": "stdout",
          "text": [
            "Enter a decimal number: 10\n",
            "Binary representation: 1010\n"
          ]
        }
      ]
    },
    {
      "cell_type": "code",
      "source": [
        "# Task 21: Matrix Addition\n",
        "print(\"Enter elements of first 2x2 matrix row-wise:\")\n",
        "A = [list(map(int, input().split())) for _ in range(2)]\n",
        "print(\"Enter elements of second 2x2 matrix row-wise:\")\n",
        "B = [list(map(int, input().split())) for _ in range(2)]\n",
        "def add_matrices(A, B):\n",
        "    return [[A[i][j] + B[i][j] for j in range(len(A[0]))] for i in range(len(A))]\n",
        "print(\"Matrix Addition Result:\")\n",
        "print(add_matrices(A, B))\n",
        "\n"
      ],
      "metadata": {
        "colab": {
          "base_uri": "https://localhost:8080/"
        },
        "id": "IFvOH-bW1Wky",
        "outputId": "44a7cfe4-9886-4e76-e641-70c0e12485bc"
      },
      "execution_count": 13,
      "outputs": [
        {
          "output_type": "stream",
          "name": "stdout",
          "text": [
            "Enter elements of first 2x2 matrix row-wise:\n",
            "1 2 2 3\n",
            "1 2 3 2\n",
            "Enter elements of second 2x2 matrix row-wise:\n",
            "1 2 2 3\n",
            "1 2 3 2 \n",
            "Matrix Addition Result:\n",
            "[[2, 4, 4, 6], [2, 4, 6, 4]]\n"
          ]
        }
      ]
    },
    {
      "cell_type": "code",
      "source": [
        "# Task 22: Matrix Multiplication\n",
        "print(\"Enter elements of first 2x2 matrix row-wise:\")\n",
        "A = [list(map(int, input().split())) for _ in range(2)]\n",
        "print(\"Enter elements of second 2x2 matrix row-wise:\")\n",
        "B = [list(map(int, input().split())) for _ in range(2)]\n",
        "def multiply_matrices(A, B):\n",
        "    result = [[sum(A[i][k] * B[k][j] for k in range(len(B))) for j in range(len(B[0]))] for i in range(len(A))]\n",
        "    return result\n",
        "print(\"Matrix Multiplication Result:\")\n",
        "print(multiply_matrices(A, B))\n",
        "\n"
      ],
      "metadata": {
        "colab": {
          "base_uri": "https://localhost:8080/"
        },
        "id": "Q9h2zxSp1ZW5",
        "outputId": "6ef47201-a78a-4016-8d56-ec1284e71ddf"
      },
      "execution_count": 14,
      "outputs": [
        {
          "output_type": "stream",
          "name": "stdout",
          "text": [
            "Enter elements of first 2x2 matrix row-wise:\n",
            "1 2\n",
            "2 1\n",
            "Enter elements of second 2x2 matrix row-wise:\n",
            "1 2\n",
            "2 1\n",
            "Matrix Multiplication Result:\n",
            "[[5, 4], [4, 5]]\n"
          ]
        }
      ]
    },
    {
      "cell_type": "code",
      "source": [
        "# Task 23: Find Second Largest\n",
        "lst = list(map(int, input(\"Enter a list of numbers separated by space: \").split()))\n",
        "def second_largest(lst):\n",
        "    unique_sorted = sorted(set(lst), reverse=True)\n",
        "    return unique_sorted[1] if len(unique_sorted) > 1 else None\n",
        "print(f\"Second largest number: {second_largest(lst)}\")\n",
        "\n"
      ],
      "metadata": {
        "colab": {
          "base_uri": "https://localhost:8080/"
        },
        "id": "vxS3IbIx1bH8",
        "outputId": "851b17e7-3f41-4d86-df34-cfeccd238695"
      },
      "execution_count": 15,
      "outputs": [
        {
          "output_type": "stream",
          "name": "stdout",
          "text": [
            "Enter a list of numbers separated by space: 2 3 4 5 6 7 8 55 33221\n",
            "Second largest number: 55\n"
          ]
        }
      ]
    },
    {
      "cell_type": "code",
      "source": [
        "# Task 24: Check Anagram\n",
        "s1 = input(\"Enter first string: \")\n",
        "s2 = input(\"Enter second string: \")\n",
        "def are_anagrams(s1, s2):\n",
        "    return sorted(s1.replace(\" \", \"\").lower()) == sorted(s2.replace(\" \", \"\").lower())\n",
        "print(f\"Are the words anagrams? {are_anagrams(s1, s2)}\")"
      ],
      "metadata": {
        "colab": {
          "base_uri": "https://localhost:8080/"
        },
        "id": "6ZyqPfe41ciS",
        "outputId": "96446c97-aad5-4838-eae8-2fc40e5773d3"
      },
      "execution_count": 18,
      "outputs": [
        {
          "output_type": "stream",
          "name": "stdout",
          "text": [
            "Enter first string: dog\n",
            "Enter second string: god\n",
            "Are the words anagrams? True\n"
          ]
        }
      ]
    }
  ]
}