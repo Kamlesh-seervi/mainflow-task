{
  "nbformat": 4,
  "nbformat_minor": 0,
  "metadata": {
    "colab": {
      "provenance": []
    },
    "kernelspec": {
      "name": "python3",
      "display_name": "Python 3"
    },
    "language_info": {
      "name": "python"
    }
  },
  "cells": [
    {
      "cell_type": "code",
      "execution_count": null,
      "metadata": {
        "colab": {
          "base_uri": "https://localhost:8080/"
        },
        "id": "maLLNyks3hjZ",
        "outputId": "97e78cd9-8039-4b71-caa3-64a38cf34c6d"
      },
      "outputs": [
        {
          "output_type": "stream",
          "name": "stdout",
          "text": [
            "Task 25 - Missing Number: 3\n"
          ]
        }
      ],
      "source": [
        "def find_missing_number(arr):\n",
        "    n = len(arr) + 1\n",
        "    total = n * (n + 1) // 2\n",
        "    return total - sum(arr)\n",
        "\n",
        "print(\"Task 25 - Missing Number:\", find_missing_number([1,2,4,5,6]))"
      ]
    },
    {
      "cell_type": "code",
      "source": [
        "def is_balanced(s):\n",
        "    stack = []\n",
        "    mapping = {')': '(', '}': '{', ']': '['}\n",
        "    for char in s:\n",
        "        if char in mapping.values():\n",
        "            stack.append(char)\n",
        "        elif char in mapping:\n",
        "            if not stack or mapping[char] != stack.pop():\n",
        "                return False\n",
        "    return not stack\n",
        "\n",
        "print(\"Task 26 - Balanced Parentheses:\", is_balanced(\"{[()]}\"))"
      ],
      "metadata": {
        "colab": {
          "base_uri": "https://localhost:8080/"
        },
        "id": "1tqi9lWx3qe8",
        "outputId": "1fc40a66-4721-4e3f-93e6-d51a287953fd"
      },
      "execution_count": null,
      "outputs": [
        {
          "output_type": "stream",
          "name": "stdout",
          "text": [
            "Task 26 - Balanced Parentheses: True\n"
          ]
        }
      ]
    },
    {
      "cell_type": "code",
      "source": [
        "def longest_word(sentence):\n",
        "    words = sentence.split()\n",
        "    return max(words, key=len)\n",
        "\n",
        "print(\"Task 27 - Longest Word:\", longest_word(\"Python is an amazing programming language\"))"
      ],
      "metadata": {
        "colab": {
          "base_uri": "https://localhost:8080/"
        },
        "id": "5OwqLWtb31bn",
        "outputId": "fedcb5b9-f386-4a2a-fd38-2126b6b977bf"
      },
      "execution_count": null,
      "outputs": [
        {
          "output_type": "stream",
          "name": "stdout",
          "text": [
            "Task 27 - Longest Word: programming\n"
          ]
        }
      ]
    },
    {
      "cell_type": "code",
      "source": [
        "def count_words(sentence):\n",
        "    return len(sentence.split())\n",
        "\n",
        "print(\"Task 28 - Word Count:\", count_words(\"Count how many words are here\"))"
      ],
      "metadata": {
        "colab": {
          "base_uri": "https://localhost:8080/"
        },
        "id": "-rG3QVWl316N",
        "outputId": "dcb00a9e-fd01-42f4-abba-563b4a963e6e"
      },
      "execution_count": null,
      "outputs": [
        {
          "output_type": "stream",
          "name": "stdout",
          "text": [
            "Task 28 - Word Count: 6\n"
          ]
        }
      ]
    },
    {
      "cell_type": "code",
      "source": [
        "def is_pythagorean_triplet(a, b, c):\n",
        "    nums = sorted([a, b, c])\n",
        "    return nums[0]**2 + nums[1]**2 == nums[2]**2\n",
        "\n",
        "print(\"Task 29 - Pythagorean Triplet (3,4,5):\", is_pythagorean_triplet(3, 4, 5))"
      ],
      "metadata": {
        "colab": {
          "base_uri": "https://localhost:8080/"
        },
        "id": "lslnrbY533zl",
        "outputId": "b22e323b-3938-46ba-e61e-03d0ae73141c"
      },
      "execution_count": null,
      "outputs": [
        {
          "output_type": "stream",
          "name": "stdout",
          "text": [
            "Task 29 - Pythagorean Triplet (3,4,5): True\n"
          ]
        }
      ]
    },
    {
      "cell_type": "code",
      "source": [
        "def bubble_sort(arr):\n",
        "    n = len(arr)\n",
        "    for i in range(n-1):\n",
        "        for j in range(n-i-1):\n",
        "            if arr[j] > arr[j+1]:\n",
        "                arr[j], arr[j+1] = arr[j+1], arr[j]\n",
        "    return arr\n",
        "\n",
        "print(\"Task 30 - Bubble Sorted List:\", bubble_sort([64, 34, 25, 12, 22, 11, 90]))"
      ],
      "metadata": {
        "colab": {
          "base_uri": "https://localhost:8080/"
        },
        "id": "tKt4UAXx35a2",
        "outputId": "ef27f7a3-ac4b-4bce-e006-a90f08bf66d5"
      },
      "execution_count": null,
      "outputs": [
        {
          "output_type": "stream",
          "name": "stdout",
          "text": [
            "Task 30 - Bubble Sorted List: [11, 12, 22, 25, 34, 64, 90]\n"
          ]
        }
      ]
    },
    {
      "cell_type": "code",
      "source": [
        "def binary_search(arr, target):\n",
        "    low, high = 0, len(arr) - 1\n",
        "    while low <= high:\n",
        "        mid = (low + high) // 2\n",
        "        if arr[mid] == target:\n",
        "            return mid\n",
        "        elif arr[mid] < target:\n",
        "            low = mid + 1\n",
        "        else:\n",
        "            high = mid - 1\n",
        "    return -1\n",
        "\n",
        "print(\"Task 31 - Binary Search Index:\", binary_search([1,2,3,4,5,6,7,8,9], 5))"
      ],
      "metadata": {
        "colab": {
          "base_uri": "https://localhost:8080/"
        },
        "id": "iyCgBlwP368Z",
        "outputId": "54f47c07-1c13-46cc-8064-15df24514679"
      },
      "execution_count": null,
      "outputs": [
        {
          "output_type": "stream",
          "name": "stdout",
          "text": [
            "Task 31 - Binary Search Index: 4\n"
          ]
        }
      ]
    },
    {
      "cell_type": "code",
      "source": [
        "def find_subarray_with_sum(arr, target_sum):\n",
        "    curr_sum = 0\n",
        "    start = 0\n",
        "    for end in range(len(arr)):\n",
        "        curr_sum += arr[end]\n",
        "        while curr_sum > target_sum and start <= end:\n",
        "            curr_sum -= arr[start]\n",
        "            start += 1\n",
        "        if curr_sum == target_sum:\n",
        "            return (start, end)\n",
        "    return -1\n",
        "\n",
        "print(\"Task 32 - Subarray Indices with Sum 9:\", find_subarray_with_sum([1,2,3,7,5], 12))"
      ],
      "metadata": {
        "colab": {
          "base_uri": "https://localhost:8080/"
        },
        "id": "HNqLsOXI38eZ",
        "outputId": "3350152c-1b8d-4df2-cbee-aeb8094007f5"
      },
      "execution_count": 9,
      "outputs": [
        {
          "output_type": "stream",
          "name": "stdout",
          "text": [
            "Task 32 - Subarray Indices with Sum 9: (1, 3)\n"
          ]
        }
      ]
    },
    {
      "cell_type": "code",
      "source": [
        "from google.colab import drive\n",
        "drive.mount('/content/drive')"
      ],
      "metadata": {
        "colab": {
          "base_uri": "https://localhost:8080/"
        },
        "id": "41D73VRJ7qxB",
        "outputId": "085d9742-a3fb-4a51-8513-ad43905adff3"
      },
      "execution_count": 10,
      "outputs": [
        {
          "output_type": "stream",
          "name": "stdout",
          "text": [
            "Drive already mounted at /content/drive; to attempt to forcibly remount, call drive.mount(\"/content/drive\", force_remount=True).\n"
          ]
        }
      ]
    },
    {
      "cell_type": "code",
      "source": [
        "def log_analysis(filename):\n",
        "    ip_count = {}\n",
        "    url_count = {}\n",
        "    code_count = {}\n",
        "    try:\n",
        "        with open(filename, 'r') as file:\n",
        "            for line in file:\n",
        "                parts = line.split()\n",
        "                if len(parts) >= 9:\n",
        "                    ip = parts[0]\n",
        "                    url = parts[6]\n",
        "                    code = parts[8]\n",
        "                    ip_count[ip] = ip_count.get(ip, 0) + 1\n",
        "                    url_count[url] = url_count.get(url, 0) + 1\n",
        "                    code_count[code] = code_count.get(code, 0) + 1\n",
        "        print(\"Top IPs:\", sorted(ip_count.items(), key=lambda x: -x[1])[:5])\n",
        "        print(\"Top URLs:\", sorted(url_count.items(), key=lambda x: -x[1])[:5])\n",
        "        print(\"Response Codes:\", code_count)\n",
        "    except FileNotFoundError:\n",
        "        print(\"File not found!\")\n",
        "\n",
        "\n",
        "log_path = '/content/server_log.txt'\n",
        "log_analysis(log_path)"
      ],
      "metadata": {
        "id": "w8LDZacY39-J",
        "colab": {
          "base_uri": "https://localhost:8080/"
        },
        "outputId": "6b1467e1-4d50-450b-cfe0-8618c89b1ac4"
      },
      "execution_count": 12,
      "outputs": [
        {
          "output_type": "stream",
          "name": "stdout",
          "text": [
            "Top IPs: [('127.0.0.1', 2), ('192.168.1.1', 2), ('10.0.0.2', 1)]\n",
            "Top URLs: [('/index.html', 2), ('/login', 1), ('/dashboard', 1), ('/home', 1)]\n",
            "Response Codes: {'200': 3, '302': 1, '404': 1}\n"
          ]
        }
      ]
    },
    {
      "cell_type": "code",
      "source": [],
      "metadata": {
        "id": "8sCFXqYd8BAP"
      },
      "execution_count": null,
      "outputs": []
    }
  ]
}