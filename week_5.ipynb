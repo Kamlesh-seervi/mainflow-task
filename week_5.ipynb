{
  "nbformat": 4,
  "nbformat_minor": 0,
  "metadata": {
    "colab": {
      "provenance": []
    },
    "kernelspec": {
      "name": "python3",
      "display_name": "Python 3"
    },
    "language_info": {
      "name": "python"
    }
  },
  "cells": [
    {
      "cell_type": "code",
      "execution_count": null,
      "metadata": {
        "colab": {
          "base_uri": "https://localhost:8080/"
        },
        "id": "HvYC7A7J2bSC",
        "outputId": "10fbd081-0ac2-4ba3-c643-32578cab0b02"
      },
      "outputs": [
        {
          "output_type": "stream",
          "name": "stdout",
          "text": [
            "Task 33 - Permutations of 'abc': ['abc', 'acb', 'bac', 'bca', 'cab', 'cba']\n"
          ]
        }
      ],
      "source": [
        "def find_permutations(s):\n",
        "    if len(s) == 1:\n",
        "        return [s]\n",
        "    perms = []\n",
        "    for i, char in enumerate(s):\n",
        "        for perm in find_permutations(s[:i] + s[i+1:]):\n",
        "            perms.append(char + perm)\n",
        "    return perms\n",
        "\n",
        "print(\"Task 33 - Permutations of 'abc':\", find_permutations(\"abc\"))"
      ]
    },
    {
      "cell_type": "code",
      "source": [
        "def fibonacci(n):\n",
        "    if n <= 1:\n",
        "        return n\n",
        "    dp = [0]*(n+1)\n",
        "    dp[1] = 1\n",
        "    for i in range(2, n+1):\n",
        "        dp[i] = dp[i-1] + dp[i-2]\n",
        "    return dp[n]\n",
        "\n",
        "print(\"Task 34 - 10th Fibonacci Number:\", fibonacci(10))"
      ],
      "metadata": {
        "colab": {
          "base_uri": "https://localhost:8080/"
        },
        "id": "iHUiTPr22fJY",
        "outputId": "05033c48-aa59-4feb-e55e-41ccaff68e4d"
      },
      "execution_count": null,
      "outputs": [
        {
          "output_type": "stream",
          "name": "stdout",
          "text": [
            "Task 34 - 10th Fibonacci Number: 55\n"
          ]
        }
      ]
    },
    {
      "cell_type": "code",
      "source": [
        "from collections import Counter\n",
        "\n",
        "def find_duplicates(lst):\n",
        "    counter = Counter(lst)\n",
        "    return [item for item, count in counter.items() if count > 1]\n",
        "\n",
        "print(\"Task 35 - Duplicates in [1,2,3,2,1,4]:\", find_duplicates([1,2,3,2,1,4]))"
      ],
      "metadata": {
        "colab": {
          "base_uri": "https://localhost:8080/"
        },
        "id": "TKpn9YIE2hEl",
        "outputId": "6a3b626b-09a7-41dc-9947-6989b347cd0d"
      },
      "execution_count": null,
      "outputs": [
        {
          "output_type": "stream",
          "name": "stdout",
          "text": [
            "Task 35 - Duplicates in [1,2,3,2,1,4]: [1, 2]\n"
          ]
        }
      ]
    },
    {
      "cell_type": "code",
      "source": [
        "def lis_length(nums):\n",
        "    if not nums:\n",
        "        return 0\n",
        "    dp = [1]*len(nums)\n",
        "    for i in range(1, len(nums)):\n",
        "        for j in range(i):\n",
        "            if nums[i] > nums[j]:\n",
        "                dp[i] = max(dp[i], dp[j] + 1)\n",
        "    return max(dp)\n",
        "\n",
        "print(\"Task 36 - Length of LIS in [10,9,2,5,3,7,101,18]:\", lis_length([10,9,2,5,3,7,101,18]))"
      ],
      "metadata": {
        "colab": {
          "base_uri": "https://localhost:8080/"
        },
        "id": "GSVeekAt2j03",
        "outputId": "0c67e96b-b487-4e8b-c45e-5883cde76f25"
      },
      "execution_count": null,
      "outputs": [
        {
          "output_type": "stream",
          "name": "stdout",
          "text": [
            "Task 36 - Length of LIS in [10,9,2,5,3,7,101,18]: 4\n"
          ]
        }
      ]
    },
    {
      "cell_type": "code",
      "source": [
        "def k_largest_elements(lst, k):\n",
        "    return sorted(lst)[-k:]\n",
        "\n",
        "print(\"Task 37 - 3 Largest in [1,23,12,9,30,2,50]:\", k_largest_elements([1,23,12,9,30,2,50], 3))"
      ],
      "metadata": {
        "colab": {
          "base_uri": "https://localhost:8080/"
        },
        "id": "TRJcwki62mTN",
        "outputId": "f0c71d6f-7c00-4f03-b7be-31043f26fb6e"
      },
      "execution_count": null,
      "outputs": [
        {
          "output_type": "stream",
          "name": "stdout",
          "text": [
            "Task 37 - 3 Largest in [1,23,12,9,30,2,50]: [23, 30, 50]\n"
          ]
        }
      ]
    },
    {
      "cell_type": "code",
      "source": [
        "def rotate_matrix(matrix):\n",
        "    n = len(matrix)\n",
        "    # Transpose\n",
        "    for i in range(n):\n",
        "        for j in range(i, n):\n",
        "            matrix[i][j], matrix[j][i] = matrix[j][i], matrix[i][j]\n",
        "    # Reverse rows\n",
        "    for row in matrix:\n",
        "        row.reverse()\n",
        "    return matrix\n",
        "\n",
        "matrix = [[1,2,3],[4,5,6],[7,8,9]]\n",
        "print(\"Task 38 - Rotated Matrix:\")\n",
        "for row in rotate_matrix(matrix):\n",
        "    print(row)"
      ],
      "metadata": {
        "colab": {
          "base_uri": "https://localhost:8080/"
        },
        "id": "7L1YmMV32oUY",
        "outputId": "ca318050-d63d-41e4-f610-1f484f4a6ae0"
      },
      "execution_count": null,
      "outputs": [
        {
          "output_type": "stream",
          "name": "stdout",
          "text": [
            "Task 38 - Rotated Matrix:\n",
            "[7, 4, 1]\n",
            "[8, 5, 2]\n",
            "[9, 6, 3]\n"
          ]
        }
      ]
    },
    {
      "cell_type": "code",
      "source": [
        "def is_valid_sudoku(board):\n",
        "    for i in range(9):\n",
        "        row = set()\n",
        "        col = set()\n",
        "        grid = set()\n",
        "        for j in range(9):\n",
        "            if board[i][j] != '.' and board[i][j] in row:\n",
        "                return False\n",
        "            row.add(board[i][j])\n",
        "            if board[j][i] != '.' and board[j][i] in col:\n",
        "                return False\n",
        "            col.add(board[j][i])\n",
        "            r, c = 3 * (i // 3) + j // 3, 3 * (i % 3) + j % 3\n",
        "            if board[r][c] != '.' and board[r][c] in grid:\n",
        "                return False\n",
        "            grid.add(board[r][c])\n",
        "    return True\n",
        "\n",
        "board = [[\"5\",\"3\",\".\",\".\",\"7\",\".\",\".\",\".\",\".\"],\n",
        "         [\"6\",\".\",\".\",\"1\",\"9\",\"5\",\".\",\".\",\".\"],\n",
        "         [\".\",\"9\",\"8\",\".\",\".\",\".\",\".\",\"6\",\".\"],\n",
        "         [\"8\",\".\",\".\",\".\",\"6\",\".\",\".\",\".\",\"3\"],\n",
        "         [\"4\",\".\",\".\",\"8\",\".\",\"3\",\".\",\".\",\"1\"],\n",
        "         [\"7\",\".\",\".\",\".\",\"2\",\".\",\".\",\".\",\"6\"],\n",
        "         [\".\",\"6\",\".\",\".\",\".\",\".\",\"2\",\"8\",\".\"],\n",
        "         [\".\",\".\",\".\",\"4\",\"1\",\"9\",\".\",\".\",\"5\"],\n",
        "         [\".\",\".\",\".\",\".\",\"8\",\".\",\".\",\"7\",\"9\"]]\n",
        "print(\"Task 39 - Sudoku Valid:\", is_valid_sudoku(board))"
      ],
      "metadata": {
        "colab": {
          "base_uri": "https://localhost:8080/"
        },
        "id": "YU2p5y8Q2t20",
        "outputId": "28b6d5da-86da-4ca9-816c-467214620018"
      },
      "execution_count": null,
      "outputs": [
        {
          "output_type": "stream",
          "name": "stdout",
          "text": [
            "Task 39 - Sudoku Valid: True\n"
          ]
        }
      ]
    },
    {
      "cell_type": "code",
      "source": [
        "import random\n",
        "\n",
        "class StockMarket:\n",
        "    def __init__(self):\n",
        "        self.stocks = {'ABC': 100, 'XYZ': 200, 'PQR': 150}\n",
        "        self.portfolio = {}\n",
        "\n",
        "    def update_prices(self):\n",
        "        for stock in self.stocks:\n",
        "            change = random.uniform(-0.05, 0.05)\n",
        "            self.stocks[stock] += self.stocks[stock] * change\n",
        "            self.stocks[stock] = round(self.stocks[stock], 2)\n",
        "\n",
        "    def buy_stock(self, stock, quantity):\n",
        "        if stock in self.stocks:\n",
        "            cost = self.stocks[stock] * quantity\n",
        "            self.portfolio[stock] = self.portfolio.get(stock, 0) + quantity\n",
        "            print(f\"Bought {quantity} shares of {stock} for ${cost:.2f}\")\n",
        "        else:\n",
        "            print(\"Stock not found.\")\n",
        "\n",
        "    def sell_stock(self, stock, quantity):\n",
        "        if stock in self.portfolio and self.portfolio[stock] >= quantity:\n",
        "            revenue = self.stocks[stock] * quantity\n",
        "            self.portfolio[stock] -= quantity\n",
        "            print(f\"Sold {quantity} shares of {stock} for ${revenue:.2f}\")\n",
        "        else:\n",
        "            print(\"Not enough shares to sell.\")\n",
        "\n",
        "    def show_market(self):\n",
        "        print(\"\\nMarket Prices:\")\n",
        "        for stock, price in self.stocks.items():\n",
        "            print(f\"{stock}: ${price:.2f}\")\n",
        "\n",
        "    def show_portfolio(self):\n",
        "        print(\"\\nYour Portfolio:\")\n",
        "        for stock, quantity in self.portfolio.items():\n",
        "            print(f\"{stock}: {quantity} shares\")\n",
        "\n",
        "market = StockMarket()\n",
        "while True:\n",
        "    market.update_prices()\n",
        "    market.show_market()\n",
        "    choice = input(\"\\nChoose: (1) Buy (2) Sell (3) Portfolio (4) Exit: \")\n",
        "    if choice == \"1\":\n",
        "        stock = input(\"Enter stock symbol: \")\n",
        "        quantity = int(input(\"Enter quantity: \"))\n",
        "        market.buy_stock(stock, quantity)\n",
        "    elif choice == \"2\":\n",
        "        stock = input(\"Enter stock symbol: \")\n",
        "        quantity = int(input(\"Enter quantity: \"))\n",
        "        market.sell_stock(stock, quantity)\n",
        "    elif choice == \"3\":\n",
        "        market.show_portfolio()\n",
        "    elif choice == \"4\":\n",
        "        break\n",
        "    else:\n",
        "        print(\"Invalid choice!\")"
      ],
      "metadata": {
        "colab": {
          "base_uri": "https://localhost:8080/"
        },
        "id": "AZTNhme32vTB",
        "outputId": "c3d48a3b-2f43-4a13-93a8-d97b8be55d0f"
      },
      "execution_count": null,
      "outputs": [
        {
          "name": "stdout",
          "output_type": "stream",
          "text": [
            "\n",
            "Market Prices:\n",
            "ABC: $99.49\n",
            "XYZ: $194.12\n",
            "PQR: $143.83\n",
            "\n",
            "Choose: (1) Buy (2) Sell (3) Portfolio (4) Exit: 1\n",
            "Enter stock symbol: ABC\n",
            "Enter quantity: 200\n",
            "Bought 200 shares of ABC for $19898.00\n",
            "\n",
            "Market Prices:\n",
            "ABC: $100.60\n",
            "XYZ: $187.31\n",
            "PQR: $138.05\n",
            "\n",
            "Choose: (1) Buy (2) Sell (3) Portfolio (4) Exit: 2\n",
            "Enter stock symbol: ABC\n",
            "Enter quantity: 300\n",
            "Not enough shares to sell.\n",
            "\n",
            "Market Prices:\n",
            "ABC: $101.23\n",
            "XYZ: $195.36\n",
            "PQR: $143.57\n",
            "\n",
            "Choose: (1) Buy (2) Sell (3) Portfolio (4) Exit: 2\n",
            "Enter stock symbol: ABC\n",
            "Enter quantity: 200\n",
            "Sold 200 shares of ABC for $20246.00\n",
            "\n",
            "Market Prices:\n",
            "ABC: $105.27\n",
            "XYZ: $204.13\n",
            "PQR: $149.25\n",
            "\n",
            "Choose: (1) Buy (2) Sell (3) Portfolio (4) Exit: 3\n",
            "\n",
            "Your Portfolio:\n",
            "ABC: 0 shares\n",
            "\n",
            "Market Prices:\n",
            "ABC: $106.60\n",
            "XYZ: $213.39\n",
            "PQR: $147.00\n",
            "\n",
            "Choose: (1) Buy (2) Sell (3) Portfolio (4) Exit: 3\n",
            "\n",
            "Your Portfolio:\n",
            "ABC: 0 shares\n",
            "\n",
            "Market Prices:\n",
            "ABC: $105.80\n",
            "XYZ: $222.09\n",
            "PQR: $151.74\n",
            "\n",
            "Choose: (1) Buy (2) Sell (3) Portfolio (4) Exit: 1\n",
            "Enter stock symbol: XYZ\n",
            "Enter quantity: 400\n",
            "Bought 400 shares of XYZ for $88836.00\n",
            "\n",
            "Market Prices:\n",
            "ABC: $104.00\n",
            "XYZ: $222.96\n",
            "PQR: $148.94\n",
            "\n",
            "Choose: (1) Buy (2) Sell (3) Portfolio (4) Exit: 3\n",
            "\n",
            "Your Portfolio:\n",
            "ABC: 0 shares\n",
            "XYZ: 400 shares\n",
            "\n",
            "Market Prices:\n",
            "ABC: $106.33\n",
            "XYZ: $220.26\n",
            "PQR: $149.87\n",
            "\n",
            "Choose: (1) Buy (2) Sell (3) Portfolio (4) Exit: 2\n",
            "Enter stock symbol: XYZ\n",
            "Enter quantity: 400\n",
            "Sold 400 shares of XYZ for $88104.00\n",
            "\n",
            "Market Prices:\n",
            "ABC: $111.07\n",
            "XYZ: $209.79\n",
            "PQR: $142.62\n",
            "\n",
            "Choose: (1) Buy (2) Sell (3) Portfolio (4) Exit: 4\n"
          ]
        }
      ]
    }
  ]
}