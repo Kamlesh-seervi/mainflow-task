{
  "nbformat": 4,
  "nbformat_minor": 0,
  "metadata": {
    "colab": {
      "provenance": []
    },
    "kernelspec": {
      "name": "python3",
      "display_name": "Python 3"
    },
    "language_info": {
      "name": "python"
    }
  },
  "cells": [
    {
      "cell_type": "code",
      "execution_count": null,
      "metadata": {
        "colab": {
          "base_uri": "https://localhost:8080/"
        },
        "id": "bwtbJhKR0xB3",
        "outputId": "083c3777-4910-45fa-a71f-fbe70af07fcb"
      },
      "outputs": [
        {
          "output_type": "stream",
          "name": "stdout",
          "text": [
            "Task 39 - Sudoku Valid: True\n"
          ]
        }
      ],
      "source": [
        "def is_valid_sudoku(board):\n",
        "    for i in range(9):\n",
        "        row = set()\n",
        "        col = set()\n",
        "        grid = set()\n",
        "        for j in range(9):\n",
        "            # Row\n",
        "            if board[i][j] != '.' and board[i][j] in row:\n",
        "                return False\n",
        "            row.add(board[i][j])\n",
        "            # Column\n",
        "            if board[j][i] != '.' and board[j][i] in col:\n",
        "                return False\n",
        "            col.add(board[j][i])\n",
        "            # 3x3 grid\n",
        "            r, c = 3 * (i // 3) + j // 3, 3 * (i % 3) + j % 3\n",
        "            if board[r][c] != '.' and board[r][c] in grid:\n",
        "                return False\n",
        "            grid.add(board[r][c])\n",
        "    return True\n",
        "\n",
        "board = [[\"5\",\"3\",\".\",\".\",\"7\",\".\",\".\",\".\",\".\"],\n",
        "         [\"6\",\".\",\".\",\"1\",\"9\",\"5\",\".\",\".\",\".\"],\n",
        "         [\".\",\"9\",\"8\",\".\",\".\",\".\",\".\",\"6\",\".\"],\n",
        "         [\"8\",\".\",\".\",\".\",\"6\",\".\",\".\",\".\",\"3\"],\n",
        "         [\"4\",\".\",\".\",\"8\",\".\",\"3\",\".\",\".\",\"1\"],\n",
        "         [\"7\",\".\",\".\",\".\",\"2\",\".\",\".\",\".\",\"6\"],\n",
        "         [\".\",\"6\",\".\",\".\",\".\",\".\",\"2\",\"8\",\".\"],\n",
        "         [\".\",\".\",\".\",\"4\",\"1\",\"9\",\".\",\".\",\"5\"],\n",
        "         [\".\",\".\",\".\",\".\",\"8\",\".\",\".\",\"7\",\"9\"]]\n",
        "\n",
        "print(\"Task 39 - Sudoku Valid:\", is_valid_sudoku(board))"
      ]
    },
    {
      "cell_type": "code",
      "source": [
        "def word_frequency(text):\n",
        "    freq = {}\n",
        "    for word in text.lower().split():\n",
        "        word = word.strip('.,!?')\n",
        "        freq[word] = freq.get(word, 0) + 1\n",
        "    return freq\n",
        "\n",
        "text = \"Hello world! Hello Python. This is a Python test.\"\n",
        "print(\"Task 40 - Word Frequency:\", word_frequency(text))"
      ],
      "metadata": {
        "colab": {
          "base_uri": "https://localhost:8080/"
        },
        "id": "_MmQJnEq1iZy",
        "outputId": "5bd80cc2-1efc-4fd1-d1af-70bc6f2fdba7"
      },
      "execution_count": null,
      "outputs": [
        {
          "output_type": "stream",
          "name": "stdout",
          "text": [
            "Task 40 - Word Frequency: {'hello': 2, 'world': 1, 'python': 2, 'this': 1, 'is': 1, 'a': 1, 'test': 1}\n"
          ]
        }
      ]
    },
    {
      "cell_type": "code",
      "source": [
        "def knapsack(weights, values, capacity):\n",
        "    n = len(weights)\n",
        "    dp = [[0]*(capacity+1) for _ in range(n+1)]\n",
        "\n",
        "    for i in range(1, n+1):\n",
        "        for w in range(capacity+1):\n",
        "            if weights[i-1] <= w:\n",
        "                dp[i][w] = max(dp[i-1][w], values[i-1] + dp[i-1][w-weights[i-1]])\n",
        "            else:\n",
        "                dp[i][w] = dp[i-1][w]\n",
        "    return dp[n][capacity]\n",
        "\n",
        "weights = [1, 2, 3]\n",
        "values = [10, 20, 30]\n",
        "capacity = 5\n",
        "print(\"Task 41 - Max Knapsack Value:\", knapsack(weights, values, capacity))"
      ],
      "metadata": {
        "colab": {
          "base_uri": "https://localhost:8080/"
        },
        "id": "EwCSgybu1nZT",
        "outputId": "9a61ebc6-6726-4d15-dc5a-6ebf8157ff84"
      },
      "execution_count": null,
      "outputs": [
        {
          "output_type": "stream",
          "name": "stdout",
          "text": [
            "Task 41 - Max Knapsack Value: 50\n"
          ]
        }
      ]
    },
    {
      "cell_type": "code",
      "source": [
        "def merge_intervals(intervals):\n",
        "    if not intervals:\n",
        "        return []\n",
        "    intervals.sort(key=lambda x: x[0])\n",
        "    merged = [intervals[0]]\n",
        "    for curr in intervals[1:]:\n",
        "        prev = merged[-1]\n",
        "        if curr[0] <= prev[1]:\n",
        "            prev[1] = max(prev[1], curr[1])\n",
        "        else:\n",
        "            merged.append(curr)\n",
        "    return merged\n",
        "\n",
        "intervals = [[1,3],[2,6],[8,10],[15,18]]\n",
        "print(\"Task 42 - Merged Intervals:\", merge_intervals(intervals))"
      ],
      "metadata": {
        "colab": {
          "base_uri": "https://localhost:8080/"
        },
        "id": "GRRA1zLO1pUh",
        "outputId": "462cf595-e56b-46a0-8132-9d475dcf0382"
      },
      "execution_count": null,
      "outputs": [
        {
          "output_type": "stream",
          "name": "stdout",
          "text": [
            "Task 42 - Merged Intervals: [[1, 6], [8, 10], [15, 18]]\n"
          ]
        }
      ]
    },
    {
      "cell_type": "code",
      "source": [
        "def find_median_sorted_arrays(nums1, nums2):\n",
        "    nums = sorted(nums1 + nums2)\n",
        "    n = len(nums)\n",
        "    if n % 2 == 1:\n",
        "        return nums[n//2]\n",
        "    else:\n",
        "        return (nums[n//2 - 1] + nums[n//2]) / 2\n",
        "\n",
        "print(\"Task 43 - Median:\", find_median_sorted_arrays([1, 3], [2, 4]))"
      ],
      "metadata": {
        "colab": {
          "base_uri": "https://localhost:8080/"
        },
        "id": "YxTQfWHg1tWE",
        "outputId": "5cdc4a6a-74f8-4a2a-f2e9-19bf51230b65"
      },
      "execution_count": null,
      "outputs": [
        {
          "output_type": "stream",
          "name": "stdout",
          "text": [
            "Task 43 - Median: 2.5\n"
          ]
        }
      ]
    },
    {
      "cell_type": "code",
      "source": [
        "def maximal_rectangle(matrix):\n",
        "    if not matrix:\n",
        "        return 0\n",
        "    n = len(matrix[0])\n",
        "    height = [0]*n\n",
        "    max_area = 0\n",
        "\n",
        "    for row in matrix:\n",
        "        for i in range(n):\n",
        "            height[i] = height[i] + 1 if row[i] == '1' else 0\n",
        "\n",
        "        stack = [-1]\n",
        "        for i in range(n+1):\n",
        "            h = height[i] if i < n else 0\n",
        "            while stack[-1] != -1 and h < height[stack[-1]]:\n",
        "                height_index = stack.pop()\n",
        "                width = i - stack[-1] - 1\n",
        "                max_area = max(max_area, height[height_index]*width)\n",
        "            stack.append(i)\n",
        "    return max_area\n",
        "\n",
        "matrix = [\n",
        "    [\"1\",\"0\",\"1\",\"0\",\"0\"],\n",
        "    [\"1\",\"0\",\"1\",\"1\",\"1\"],\n",
        "    [\"1\",\"1\",\"1\",\"1\",\"1\"],\n",
        "    [\"1\",\"0\",\"0\",\"1\",\"0\"]\n",
        "]\n",
        "print(\"Task 44 - Max Rectangle Area:\", maximal_rectangle(matrix))"
      ],
      "metadata": {
        "colab": {
          "base_uri": "https://localhost:8080/"
        },
        "id": "jzib-k4n1wrF",
        "outputId": "0cf47a41-daa0-429c-f737-226cae237e7d"
      },
      "execution_count": null,
      "outputs": [
        {
          "output_type": "stream",
          "name": "stdout",
          "text": [
            "Task 44 - Max Rectangle Area: 6\n"
          ]
        }
      ]
    },
    {
      "cell_type": "code",
      "source": [
        "def max_subarray_sum(nums):\n",
        "    max_sum = curr = nums[0]\n",
        "    for num in nums[1:]:\n",
        "        curr = max(num, curr + num)\n",
        "        max_sum = max(max_sum, curr)\n",
        "    return max_sum\n",
        "\n",
        "print(\"Task 45 - Max Subarray Sum:\", max_subarray_sum([-2,1,-3,4,-1,2,1,-5,4]))"
      ],
      "metadata": {
        "colab": {
          "base_uri": "https://localhost:8080/"
        },
        "id": "nKYOpmV610tK",
        "outputId": "219cdf2b-a8f7-494d-8dd9-da1837aa799f"
      },
      "execution_count": null,
      "outputs": [
        {
          "output_type": "stream",
          "name": "stdout",
          "text": [
            "Task 45 - Max Subarray Sum: 6\n"
          ]
        }
      ]
    },
    {
      "cell_type": "code",
      "source": [
        "from collections import deque\n",
        "\n",
        "def word_ladder(start, end, word_list):\n",
        "    word_set = set(word_list)\n",
        "    queue = deque([(start, 1)])\n",
        "    while queue:\n",
        "        word, length = queue.popleft()\n",
        "        if word == end:\n",
        "            return length\n",
        "        for i in range(len(word)):\n",
        "            for c in 'abcdefghijklmnopqrstuvwxyz':\n",
        "                next_word = word[:i] + c + word[i+1:]\n",
        "                if next_word in word_set:\n",
        "                    word_set.remove(next_word)\n",
        "                    queue.append((next_word, length + 1))\n",
        "    return 0\n",
        "\n",
        "print(\"Task 46 - Word Ladder Length:\", word_ladder(\"hit\", \"cog\", [\"hot\",\"dot\",\"dog\",\"lot\",\"log\",\"cog\"]))"
      ],
      "metadata": {
        "colab": {
          "base_uri": "https://localhost:8080/"
        },
        "id": "eGqthX0c13Jr",
        "outputId": "f87b1f01-d246-4c85-8ad4-82f336bce1c9"
      },
      "execution_count": null,
      "outputs": [
        {
          "output_type": "stream",
          "name": "stdout",
          "text": [
            "Task 46 - Word Ladder Length: 5\n"
          ]
        }
      ]
    },
    {
      "cell_type": "code",
      "source": [
        "class Character:\n",
        "    def __init__(self, name, health, attack):\n",
        "        self.name = name\n",
        "        self.health = health\n",
        "        self.attack = attack\n",
        "\n",
        "    def is_alive(self):\n",
        "        return self.health > 0\n",
        "\n",
        "class Game:\n",
        "    def __init__(self):\n",
        "        self.player = Character(\"Hero\", 100, 10)\n",
        "        self.enemy = Character(\"Goblin\", 50, 5)\n",
        "        self.inventory = []\n",
        "\n",
        "    def fight(self):\n",
        "        print(\"⚔️ Battle Start!\")\n",
        "        while self.player.is_alive() and self.enemy.is_alive():\n",
        "            self.enemy.health -= self.player.attack\n",
        "            print(f\"You attack Goblin! Goblin HP: {self.enemy.health}\")\n",
        "            if not self.enemy.is_alive():\n",
        "                print(\"You defeated the Goblin!\")\n",
        "                self.inventory.append(\"Gold Coin\")\n",
        "                return\n",
        "            self.player.health -= self.enemy.attack\n",
        "            print(f\"Goblin attacks! Your HP: {self.player.health}\")\n",
        "        if not self.player.is_alive():\n",
        "            print(\"Game Over!\")\n",
        "\n",
        "    def play(self):\n",
        "        print(\"Welcome to the RPG Game!\")\n",
        "        print(\"1. Fight Goblin\\n2. View Inventory\\n3. Exit\")\n",
        "        while True:\n",
        "            choice = input(\"Enter your choice: \")\n",
        "            if choice == \"1\":\n",
        "                self.fight()\n",
        "            elif choice == \"2\":\n",
        "                print(\"Inventory:\", self.inventory)\n",
        "            elif choice == \"3\":\n",
        "                print(\"Exiting game.\")\n",
        "                break\n",
        "            else:\n",
        "                print(\"Invalid choice!\")\n",
        "\n",
        "if __name__ == \"__main__\":\n",
        "    Game().play()"
      ],
      "metadata": {
        "colab": {
          "base_uri": "https://localhost:8080/"
        },
        "id": "9nd-ernZ15jm",
        "outputId": "62f0d57a-e1f9-4f5d-e820-5f182f655496"
      },
      "execution_count": null,
      "outputs": [
        {
          "output_type": "stream",
          "name": "stdout",
          "text": [
            "Welcome to the RPG Game!\n",
            "1. Fight Goblin\n",
            "2. View Inventory\n",
            "3. Exit\n",
            "Enter your choice: 1\n",
            "⚔️ Battle Start!\n",
            "You attack Goblin! Goblin HP: 40\n",
            "Goblin attacks! Your HP: 95\n",
            "You attack Goblin! Goblin HP: 30\n",
            "Goblin attacks! Your HP: 90\n",
            "You attack Goblin! Goblin HP: 20\n",
            "Goblin attacks! Your HP: 85\n",
            "You attack Goblin! Goblin HP: 10\n",
            "Goblin attacks! Your HP: 80\n",
            "You attack Goblin! Goblin HP: 0\n",
            "You defeated the Goblin!\n",
            "Enter your choice: 2\n",
            "Inventory: ['Gold Coin']\n",
            "Enter your choice: 1\n",
            "⚔️ Battle Start!\n",
            "Enter your choice: 2\n",
            "Inventory: ['Gold Coin']\n",
            "Enter your choice: 1\n",
            "⚔️ Battle Start!\n",
            "Enter your choice: 3\n",
            "Exiting game.\n"
          ]
        }
      ]
    }
  ]
}