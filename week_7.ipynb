{
  "nbformat": 4,
  "nbformat_minor": 0,
  "metadata": {
    "colab": {
      "provenance": []
    },
    "kernelspec": {
      "name": "python3",
      "display_name": "Python 3"
    },
    "language_info": {
      "name": "python"
    }
  },
  "cells": [
    {
      "cell_type": "code",
      "execution_count": null,
      "metadata": {
        "colab": {
          "base_uri": "https://localhost:8080/"
        },
        "id": "Y_z93YVDp_iq",
        "outputId": "5e196609-364a-47fd-d94c-887f3b8bb6e2"
      },
      "outputs": [
        {
          "output_type": "stream",
          "name": "stdout",
          "text": [
            "Task 47 - Inversion Count: 3\n"
          ]
        }
      ],
      "source": [
        "def merge_sort(arr):\n",
        "    if len(arr) <= 1:\n",
        "        return arr, 0\n",
        "    mid = len(arr) // 2\n",
        "    left, inv_left = merge_sort(arr[:mid])\n",
        "    right, inv_right = merge_sort(arr[mid:])\n",
        "    merged, count = merge(left, right)\n",
        "    return merged, inv_left + inv_right + count\n",
        "\n",
        "def merge(left, right):\n",
        "    i = j = inv_count = 0\n",
        "    merged = []\n",
        "    while i < len(left) and j < len(right):\n",
        "        if left[i] <= right[j]:\n",
        "            merged.append(left[i])\n",
        "            i += 1\n",
        "        else:\n",
        "            merged.append(right[j])\n",
        "            inv_count += len(left) - i\n",
        "            j += 1\n",
        "    merged += left[i:] + right[j:]\n",
        "    return merged, inv_count\n",
        "\n",
        "arr = [2, 4, 1, 3, 5]\n",
        "_, count = merge_sort(arr)\n",
        "print(\"Task 47 - Inversion Count:\", count)"
      ]
    },
    {
      "cell_type": "code",
      "source": [
        "def longest_palindrome(s):\n",
        "    res = \"\"\n",
        "    for i in range(len(s)):\n",
        "        for j in range(i, len(s)):\n",
        "            substr = s[i:j+1]\n",
        "            if substr == substr[::-1] and len(substr) > len(res):\n",
        "                res = substr\n",
        "    return res\n",
        "\n",
        "print(\"Task 48 - Longest Palindrome:\", longest_palindrome(\"babad\"))"
      ],
      "metadata": {
        "colab": {
          "base_uri": "https://localhost:8080/"
        },
        "id": "4JvWUNqkqPtF",
        "outputId": "89262230-8e0c-4c21-c764-b0b4c97aeec7"
      },
      "execution_count": null,
      "outputs": [
        {
          "output_type": "stream",
          "name": "stdout",
          "text": [
            "Task 48 - Longest Palindrome: bab\n"
          ]
        }
      ]
    },
    {
      "cell_type": "code",
      "source": [
        "from itertools import permutations\n",
        "\n",
        "def tsp_brute_force(graph):\n",
        "    V = len(graph)\n",
        "    min_path = float('inf')\n",
        "    for perm in permutations(range(1, V)):\n",
        "        current_cost = graph[0][perm[0]]\n",
        "        for i in range(len(perm)-1):\n",
        "            current_cost += graph[perm[i]][perm[i+1]]\n",
        "        current_cost += graph[perm[-1]][0]\n",
        "        min_path = min(min_path, current_cost)\n",
        "    return min_path\n",
        "\n",
        "graph = [\n",
        "    [0, 29, 20, 21],\n",
        "    [29, 0, 15, 17],\n",
        "    [20, 15, 0, 28],\n",
        "    [21, 17, 28, 0]\n",
        "]\n",
        "print(\"Task 49 - TSP Minimum Cost:\", tsp_brute_force(graph))"
      ],
      "metadata": {
        "colab": {
          "base_uri": "https://localhost:8080/"
        },
        "id": "LSDRqGsRqTDL",
        "outputId": "51bab386-5975-4f02-904c-7bef06dabe56"
      },
      "execution_count": null,
      "outputs": [
        {
          "output_type": "stream",
          "name": "stdout",
          "text": [
            "Task 49 - TSP Minimum Cost: 73\n"
          ]
        }
      ]
    },
    {
      "cell_type": "code",
      "source": [
        "def has_cycle(graph):\n",
        "    visited = set()\n",
        "\n",
        "    def dfs(node, parent):\n",
        "        visited.add(node)\n",
        "        for neighbor in graph[node]:\n",
        "            if neighbor not in visited:\n",
        "                if dfs(neighbor, node):\n",
        "                    return True\n",
        "            elif neighbor != parent:\n",
        "                return True\n",
        "        return False\n",
        "\n",
        "    for node in graph:\n",
        "        if node not in visited:\n",
        "            if dfs(node, -1):\n",
        "                return True\n",
        "    return False\n",
        "\n",
        "graph = {0: [1], 1: [0, 2], 2: [1]}\n",
        "print(\"Task 50 - Contains Cycle:\", has_cycle(graph))"
      ],
      "metadata": {
        "colab": {
          "base_uri": "https://localhost:8080/"
        },
        "id": "hAeEtk45qVRF",
        "outputId": "0485fe8b-80e1-44a9-a88d-d3d7c70f711b"
      },
      "execution_count": null,
      "outputs": [
        {
          "output_type": "stream",
          "name": "stdout",
          "text": [
            "Task 50 - Contains Cycle: False\n"
          ]
        }
      ]
    },
    {
      "cell_type": "code",
      "source": [
        "def longest_unique_substring(s):\n",
        "    seen = {}\n",
        "    left = max_len = 0\n",
        "    for right, ch in enumerate(s):\n",
        "        if ch in seen and seen[ch] >= left:\n",
        "            left = seen[ch] + 1\n",
        "        seen[ch] = right\n",
        "        max_len = max(max_len, right - left + 1)\n",
        "    return max_len\n",
        "\n",
        "print(\"Task 51 - Longest Unique Substring Length:\", longest_unique_substring(\"abcabcbb\"))"
      ],
      "metadata": {
        "colab": {
          "base_uri": "https://localhost:8080/"
        },
        "id": "Zm603XU6qXGi",
        "outputId": "7f0bf010-5afe-4049-862c-f4ce87e9750c"
      },
      "execution_count": null,
      "outputs": [
        {
          "output_type": "stream",
          "name": "stdout",
          "text": [
            "Task 51 - Longest Unique Substring Length: 3\n"
          ]
        }
      ]
    },
    {
      "cell_type": "code",
      "source": [
        "def generate_parentheses(n):\n",
        "    res = []\n",
        "    def backtrack(s, left, right):\n",
        "        if len(s) == 2 * n:\n",
        "            res.append(s)\n",
        "            return\n",
        "        if left < n:\n",
        "            backtrack(s + \"(\", left + 1, right)\n",
        "        if right < left:\n",
        "            backtrack(s + \")\", left, right + 1)\n",
        "    backtrack(\"\", 0, 0)\n",
        "    return res\n",
        "\n",
        "print(\"Task 52 - Valid Parentheses:\", generate_parentheses(3))"
      ],
      "metadata": {
        "colab": {
          "base_uri": "https://localhost:8080/"
        },
        "id": "oLyXYl6xqZVQ",
        "outputId": "a24410d7-c0ae-48f4-ea3e-0a201244e91f"
      },
      "execution_count": null,
      "outputs": [
        {
          "output_type": "stream",
          "name": "stdout",
          "text": [
            "Task 52 - Valid Parentheses: ['((()))', '(()())', '(())()', '()(())', '()()()']\n"
          ]
        }
      ]
    },
    {
      "cell_type": "code",
      "source": [
        "from collections import deque\n",
        "\n",
        "class TreeNodeZigzag:\n",
        "    def __init__(self, val):\n",
        "        self.val = val\n",
        "        self.left = self.right = None\n",
        "\n",
        "def zigzag_level_order(root):\n",
        "    if not root:\n",
        "        return []\n",
        "    result, level, queue = [], 0, deque([root])\n",
        "    while queue:\n",
        "        level_size = len(queue)\n",
        "        current_level = []\n",
        "        for _ in range(level_size):\n",
        "            node = queue.popleft()\n",
        "            if level % 2 == 0:\n",
        "                current_level.append(node.val)\n",
        "            else:\n",
        "                current_level.insert(0, node.val)\n",
        "            if node.left:\n",
        "                queue.append(node.left)\n",
        "            if node.right:\n",
        "                queue.append(node.right)\n",
        "        result.append(current_level)\n",
        "        level += 1\n",
        "    return result\n",
        "\n",
        "tree = TreeNodeZigzag(1)\n",
        "tree.left = TreeNodeZigzag(2)\n",
        "tree.right = TreeNodeZigzag(3)\n",
        "tree.left.left = TreeNodeZigzag(4)\n",
        "tree.right.right = TreeNodeZigzag(5)\n",
        "print(\"Task 53 - Zigzag Traversal:\", zigzag_level_order(tree))"
      ],
      "metadata": {
        "colab": {
          "base_uri": "https://localhost:8080/"
        },
        "id": "e7wNKsX-qbNC",
        "outputId": "53589986-2360-4628-c22e-58761c46b7cd"
      },
      "execution_count": null,
      "outputs": [
        {
          "output_type": "stream",
          "name": "stdout",
          "text": [
            "Task 53 - Zigzag Traversal: [[1], [3, 2], [4, 5]]\n"
          ]
        }
      ]
    },
    {
      "cell_type": "code",
      "source": [
        "def partition_palindromes(s):\n",
        "    res = []\n",
        "    def backtrack(start, path):\n",
        "        if start == len(s):\n",
        "            res.append(path[:])\n",
        "            return\n",
        "        for end in range(start+1, len(s)+1):\n",
        "            if s[start:end] == s[start:end][::-1]:\n",
        "                backtrack(end, path + [s[start:end]])\n",
        "    backtrack(0, [])\n",
        "    return res\n",
        "\n",
        "print(\"Task 54 - Palindrome Partitions:\", partition_palindromes(\"aab\"))"
      ],
      "metadata": {
        "colab": {
          "base_uri": "https://localhost:8080/"
        },
        "id": "-s8GwFtbqdfJ",
        "outputId": "08426865-b89b-423d-c3f9-5502bb426386"
      },
      "execution_count": null,
      "outputs": [
        {
          "output_type": "stream",
          "name": "stdout",
          "text": [
            "Task 54 - Palindrome Partitions: [['a', 'a', 'b'], ['aa', 'b']]\n"
          ]
        }
      ]
    },
    {
      "cell_type": "code",
      "source": [
        "def track_expenses(transactions):\n",
        "    total_income = sum(x['amount'] for x in transactions if x['type'] == 'income')\n",
        "    total_expense = sum(x['amount'] for x in transactions if x['type'] == 'expense')\n",
        "    balance = total_income - total_expense\n",
        "\n",
        "    print(\"Total Income:\", total_income)\n",
        "    print(\"Total Expense:\", total_expense)\n",
        "    print(\"Balance:\", balance)\n",
        "\n",
        "    if total_expense > total_income * 0.7:\n",
        "        print(\"⚠️ Suggestion: You're spending more than 70% of your income. Try to reduce non-essential expenses.\")\n",
        "    elif total_expense < total_income * 0.4:\n",
        "        print(\"✅ Good job saving this month!\")\n",
        "\n",
        "transactions = [\n",
        "    {\"type\": \"income\", \"amount\": 5000},\n",
        "    {\"type\": \"expense\", \"amount\": 1000},\n",
        "    {\"type\": \"expense\", \"amount\": 2000},\n",
        "    {\"type\": \"expense\", \"amount\": 500}\n",
        "]\n",
        "\n",
        "print(\"\\nTask 7 - Personal Budget Advisor:\")\n",
        "track_expenses(transactions)"
      ],
      "metadata": {
        "id": "JPDzBYB9qfHk",
        "outputId": "c5432a0e-8657-4c3b-876e-c18098a1de3b",
        "colab": {
          "base_uri": "https://localhost:8080/"
        }
      },
      "execution_count": null,
      "outputs": [
        {
          "output_type": "stream",
          "name": "stdout",
          "text": [
            "\n",
            "Task 7 - Personal Budget Advisor:\n",
            "Total Income: 5000\n",
            "Total Expense: 3500\n",
            "Balance: 1500\n"
          ]
        }
      ]
    }
  ]
}